{
  "cells": [
    {
      "cell_type": "markdown",
      "id": "e5181466",
      "metadata": {
        "id": "e5181466"
      },
      "source": [
        "#Задание 1. Сформировать отчёт с информацией о 10 наиболее популярных языках программирования по итогам года за период с 2010 по 2020 годы."
      ]
    },
    {
      "cell_type": "code",
      "execution_count": 60,
      "id": "71214e08",
      "metadata": {
        "id": "71214e08"
      },
      "outputs": [],
      "source": [
        "import pyspark.sql.functions as F\n",
        "from pyspark.sql import Row\n",
        "from pyspark.sql import SparkSession\n",
        "\n",
        "import os\n",
        "import sys"
      ]
    },
    {
      "cell_type": "code",
      "execution_count": 61,
      "id": "24b10205",
      "metadata": {
        "id": "24b10205"
      },
      "outputs": [],
      "source": [
        "# Задаем переменные окружения для корректной работы некоторых функций\n",
        "os.environ['PYSPARK_PYTHON'] = sys.executable\n",
        "os.environ['PYSPARK_DRIVER_PYTHON'] = sys.executable\n",
        "\n",
        "# Задаем переменную окружения для парсинга xml\n",
        "os.environ['PYSPARK_SUBMIT_ARGS'] = '--packages com.databricks:spark-xml_2.12:0.17.0 pyspark-shell'\n",
        "\n",
        "os.chdir('../')"
      ]
    },
    {
      "cell_type": "code",
      "execution_count": 62,
      "id": "de01150f",
      "metadata": {
        "colab": {
          "base_uri": "https://localhost:8080/",
          "height": 222
        },
        "id": "de01150f",
        "outputId": "b08e3831-2a3b-4f08-c58a-5360214dc4c4"
      },
      "outputs": [
        {
          "output_type": "execute_result",
          "data": {
            "text/plain": [
              "<pyspark.sql.session.SparkSession at 0x7cd11825c110>"
            ],
            "text/html": [
              "\n",
              "            <div>\n",
              "                <p><b>SparkSession - in-memory</b></p>\n",
              "                \n",
              "        <div>\n",
              "            <p><b>SparkContext</b></p>\n",
              "\n",
              "            <p><a href=\"http://fd52d2a4b26c:4040\">Spark UI</a></p>\n",
              "\n",
              "            <dl>\n",
              "              <dt>Version</dt>\n",
              "                <dd><code>v3.5.1</code></dd>\n",
              "              <dt>Master</dt>\n",
              "                <dd><code>local[*]</code></dd>\n",
              "              <dt>AppName</dt>\n",
              "                <dd><code>pyspark-shell</code></dd>\n",
              "            </dl>\n",
              "        </div>\n",
              "        \n",
              "            </div>\n",
              "        "
            ]
          },
          "metadata": {},
          "execution_count": 62
        }
      ],
      "source": [
        "spark = SparkSession.builder.getOrCreate()\n",
        "spark"
      ]
    },
    {
      "cell_type": "code",
      "execution_count": 63,
      "id": "1c5bde51",
      "metadata": {
        "id": "1c5bde51"
      },
      "outputs": [],
      "source": [
        "def show_info(data):\n",
        "\n",
        "    print(\"\\033[1mПервые 5 элементов\\033[0m\")\n",
        "    data.show(n = 5)\n",
        "\n",
        "    print(\"\\033[1mКоличество элементов\\033[0m\")\n",
        "    print(data.count())"
      ]
    },
    {
      "cell_type": "code",
      "execution_count": 64,
      "id": "8d990848",
      "metadata": {
        "id": "8d990848"
      },
      "outputs": [],
      "source": [
        "def get_path_to_file(file_name):\n",
        "    return f'file:///{os.getcwd()}/{file_name}'.replace(\"\\\\\", \"/\")"
      ]
    },
    {
      "cell_type": "code",
      "execution_count": 65,
      "id": "39ef3f3a",
      "metadata": {
        "scrolled": true,
        "colab": {
          "base_uri": "https://localhost:8080/"
        },
        "id": "39ef3f3a",
        "outputId": "ba16ddb3-b742-4383-ff0f-be21d93a7c58"
      },
      "outputs": [
        {
          "output_type": "stream",
          "name": "stdout",
          "text": [
            "\u001b[1mПервые 5 элементов\u001b[0m\n",
            "+-----------------+------------+--------------------+-----------+-------------+--------------------+--------------------+--------------+---+--------------------+--------------------+----------------------+-----------------+-----------------+------------+---------+-----------+------+--------------------+--------------------+----------+\n",
            "|_AcceptedAnswerId|_AnswerCount|               _Body|_ClosedDate|_CommentCount| _CommunityOwnedDate|       _CreationDate|_FavoriteCount|_Id|   _LastActivityDate|       _LastEditDate|_LastEditorDisplayName|_LastEditorUserId|_OwnerDisplayName|_OwnerUserId|_ParentId|_PostTypeId|_Score|               _Tags|              _Title|_ViewCount|\n",
            "+-----------------+------------+--------------------+-----------+-------------+--------------------+--------------------+--------------+---+--------------------+--------------------+----------------------+-----------------+-----------------+------------+---------+-----------+------+--------------------+--------------------+----------+\n",
            "|                7|          13|<p>I want to use ...|       NULL|            2|2012-10-31 16:42:...|2008-07-31 21:42:...|            48|  4|2019-07-19 01:39:...|2019-07-19 01:39:...|                Rich B|          3641067|             NULL|           8|     NULL|          1|   630|<c#><floating-poi...|Convert Decimal t...|     42817|\n",
            "|               31|           6|<p>I have an abso...|       NULL|            0|                NULL|2008-07-31 22:08:...|            10|  6|2019-07-19 01:43:...|2019-07-19 01:43:...|                Rich B|          3641067|             NULL|           9|     NULL|          1|   281|<html><css><inter...|Percentage width ...|     18214|\n",
            "|             NULL|        NULL|<p>An explicit ca...|       NULL|            0|                NULL|2008-07-31 22:17:...|          NULL|  7|2017-12-16 05:06:...|2017-12-16 05:06:...|                  NULL|          4020527|             NULL|           9|        4|          2|   425|                NULL|                NULL|      NULL|\n",
            "|             1404|          63|<p>Given a <code>...|       NULL|            5|2011-08-16 19:40:...|2008-07-31 23:40:...|           436|  9|2019-06-26 15:25:...|2018-04-21 17:48:...|                Rich B|          3956566|             NULL|           1|     NULL|          1|  1742|<c#><.net><datetime>|How do I calculat...|    555183|\n",
            "|             1248|          37|<p>Given a specif...|       NULL|            3|2009-09-04 13:15:...|2008-07-31 23:55:...|           539| 11|2019-05-26 02:31:...|2017-06-04 15:51:...|           user2370523|          6479704|             NULL|           1|     NULL|          1|  1444|<c#><datetime><ti...|Calculate relativ...|    149445|\n",
            "+-----------------+------------+--------------------+-----------+-------------+--------------------+--------------------+--------------+---+--------------------+--------------------+----------------------+-----------------+-----------------+------------+---------+-----------+------+--------------------+--------------------+----------+\n",
            "only showing top 5 rows\n",
            "\n",
            "\u001b[1mКоличество элементов\u001b[0m\n",
            "46006\n"
          ]
        }
      ],
      "source": [
        "postsData = spark.read.format('xml').option('rowTag', 'row').option(\"timestampFormat\", 'y/M/d H:m:s').load('/content/posts_sample.xml')\n",
        "show_info(postsData)"
      ]
    },
    {
      "cell_type": "code",
      "execution_count": 66,
      "id": "7fcecb14",
      "metadata": {
        "colab": {
          "base_uri": "https://localhost:8080/"
        },
        "id": "7fcecb14",
        "outputId": "746a7f8b-e8b9-42ef-8d09-a542b9771f99"
      },
      "outputs": [
        {
          "output_type": "stream",
          "name": "stdout",
          "text": [
            "+-----------------+------------+--------------------+-----------+-------------+-------------------+--------------------+--------------+-------+--------------------+--------------------+----------------------+-----------------+-----------------+------------+---------+-----------+------+-----+------+----------+\n",
            "|_AcceptedAnswerId|_AnswerCount|               _Body|_ClosedDate|_CommentCount|_CommunityOwnedDate|       _CreationDate|_FavoriteCount|    _Id|   _LastActivityDate|       _LastEditDate|_LastEditorDisplayName|_LastEditorUserId|_OwnerDisplayName|_OwnerUserId|_ParentId|_PostTypeId|_Score|_Tags|_Title|_ViewCount|\n",
            "+-----------------+------------+--------------------+-----------+-------------+-------------------+--------------------+--------------+-------+--------------------+--------------------+----------------------+-----------------+-----------------+------------+---------+-----------+------+-----+------+----------+\n",
            "|             NULL|        NULL|<p>No. (And more ...|       NULL|            6|               NULL|2010-09-20 16:18:...|          NULL|3753373|2010-09-20 16:18:...|                NULL|                  NULL|             NULL|             NULL|       10293|  3753364|          2|    13| NULL|  NULL|      NULL|\n",
            "|             NULL|        NULL|<p>I am not aware...|       NULL|            2|               NULL|2010-09-20 18:36:...|          NULL|3754384|2010-09-20 18:43:...|2010-09-20 18:43:...|                  NULL|           140185|             NULL|      140185|  3754279|          2|     2| NULL|  NULL|      NULL|\n",
            "|             NULL|        NULL|<p>If you want a ...|       NULL|            2|               NULL|2010-09-20 19:04:...|          NULL|3754601|2010-09-20 19:04:...|                NULL|                  NULL|             NULL|             NULL|        7280|  3754553|          2|     1| NULL|  NULL|      NULL|\n",
            "|             NULL|        NULL|<p>The very first...|       NULL|            0|               NULL|2010-09-21 02:07:...|          NULL|3756831|2010-09-21 02:07:...|                NULL|                  NULL|             NULL|             NULL|      349130|  3756770|          2|     9| NULL|  NULL|      NULL|\n",
            "|             NULL|        NULL|<p>It seems to me...|       NULL|            3|               NULL|2010-09-21 07:33:...|          NULL|3758183|2010-09-21 07:33:...|                NULL|                  NULL|             NULL|             NULL|       15168|  3754526|          2|     0| NULL|  NULL|      NULL|\n",
            "+-----------------+------------+--------------------+-----------+-------------+-------------------+--------------------+--------------+-------+--------------------+--------------------+----------------------+-----------------+-----------------+------------+---------+-----------+------+-----+------+----------+\n",
            "only showing top 5 rows\n",
            "\n"
          ]
        }
      ],
      "source": [
        "dates = (\"2010-01-01\",  \"2020-12-31\")\n",
        "\n",
        "posts_by_date = postsData.filter(F.col(\"_CreationDate\").between(*dates))\n",
        "posts_by_date.show(5)\n",
        "\n"
      ]
    },
    {
      "cell_type": "code",
      "execution_count": 72,
      "id": "87842dbc",
      "metadata": {
        "colab": {
          "base_uri": "https://localhost:8080/"
        },
        "id": "87842dbc",
        "outputId": "9e9946fd-441f-489b-9868-746a39e9ada8"
      },
      "outputs": [
        {
          "output_type": "stream",
          "name": "stdout",
          "text": [
            "\u001b[1mПервые 5 элементов\u001b[0m\n",
            "+----------+--------------------+\n",
            "|      name|       wikipedia_url|\n",
            "+----------+--------------------+\n",
            "|   A# .NET|https://en.wikipe...|\n",
            "|A# (Axiom)|https://en.wikipe...|\n",
            "|A-0 System|https://en.wikipe...|\n",
            "|        A+|https://en.wikipe...|\n",
            "|       A++|https://en.wikipe...|\n",
            "+----------+--------------------+\n",
            "only showing top 5 rows\n",
            "\n",
            "\u001b[1mКоличество элементов\u001b[0m\n",
            "699\n"
          ]
        }
      ],
      "source": [
        "languagesData = spark.read.format('csv').option('header', 'true').option(\"inferSchema\", True).load(get_path_to_file('/programming-languages.csv')).dropna()\n",
        "show_info(languagesData)"
      ]
    },
    {
      "cell_type": "code",
      "execution_count": 73,
      "id": "30d65d16",
      "metadata": {
        "id": "30d65d16"
      },
      "outputs": [],
      "source": [
        "language_names = [str(x[0]) for x in languagesData.collect()]\n",
        "\n",
        "def includes_name(x):              # определение языка, который содержится в теге поста\n",
        "    tag = None\n",
        "    for name in language_names:\n",
        "        n = '<' + name.lower() + '>'\n",
        "        if n in str(x._Tags).lower():\n",
        "            tag = name\n",
        "            break\n",
        "    if tag is None:\n",
        "        tag = 'No'\n",
        "\n",
        "    return (x[6], tag)\n",
        "\n",
        "posts_by_date_rdd = posts_by_date.rdd.map(includes_name).filter(lambda x: x[1] != 'No')\n",
        "\n",
        "posts_by_date_rdd_group = posts_by_date_rdd.keyBy(lambda row: (row[0].year, row[1])).aggregateByKey(0, lambda x, y: x + 1, lambda x1, x2: x1 + x2).sortBy(lambda x: x[1], ascending=False).collect()\n",
        "\n",
        "years_list = [i for i in range(2010, 2020)][::-1]\n",
        "df_by_years = []\n",
        "for year in years_list:\n",
        "    df_by_years.extend([row for row in posts_by_date_rdd_group if row[0][0] == year][:10])\n"
      ]
    },
    {
      "cell_type": "code",
      "execution_count": 74,
      "id": "bb496f22",
      "metadata": {
        "id": "bb496f22"
      },
      "outputs": [],
      "source": [
        "row_template = Row('Year', 'Language', 'Count')                  # полученные данные записываем в строки\n",
        "result_df = spark.createDataFrame([row_template(*x, y) for x, y in df_by_years])   # создаем новую таблицу с данными"
      ]
    },
    {
      "cell_type": "code",
      "execution_count": 78,
      "id": "4b6efd38",
      "metadata": {
        "id": "4b6efd38",
        "colab": {
          "base_uri": "https://localhost:8080/"
        },
        "outputId": "640c1a4b-fc85-483a-b446-8e16d6b04219"
      },
      "outputs": [
        {
          "output_type": "stream",
          "name": "stdout",
          "text": [
            "+----+-----------+-----+\n",
            "|Year|   Language|Count|\n",
            "+----+-----------+-----+\n",
            "|2019|     Python|  162|\n",
            "|2019| JavaScript|  131|\n",
            "|2019|       Java|   95|\n",
            "|2019|        PHP|   59|\n",
            "|2019|          R|   36|\n",
            "|2019|          C|   14|\n",
            "|2019|       Dart|    9|\n",
            "|2019|     MATLAB|    9|\n",
            "|2019|         Go|    9|\n",
            "|2019|       Bash|    8|\n",
            "|2018|     Python|  214|\n",
            "|2018| JavaScript|  196|\n",
            "|2018|       Java|  145|\n",
            "|2018|        PHP|   99|\n",
            "|2018|          R|   63|\n",
            "|2018|          C|   24|\n",
            "|2018|      Scala|   22|\n",
            "|2018| TypeScript|   21|\n",
            "|2018| PowerShell|   13|\n",
            "|2018|       Bash|   12|\n",
            "|2017| JavaScript|  244|\n",
            "|2017|       Java|  204|\n",
            "|2017|     Python|  185|\n",
            "|2017|        PHP|  122|\n",
            "|2017|          R|   53|\n",
            "|2017|          C|   24|\n",
            "|2017|Objective-C|   19|\n",
            "|2017|       Ruby|   16|\n",
            "|2017| TypeScript|   14|\n",
            "|2017| PowerShell|   14|\n",
            "|2016| JavaScript|  272|\n",
            "|2016|       Java|  179|\n",
            "|2016|     Python|  141|\n",
            "|2016|        PHP|  126|\n",
            "|2016|          R|   50|\n",
            "|2016|          C|   32|\n",
            "|2016|       Ruby|   21|\n",
            "|2016|       Bash|   16|\n",
            "|2016|      Scala|   16|\n",
            "|2016|     MATLAB|   15|\n",
            "|2015| JavaScript|  270|\n",
            "|2015|       Java|  208|\n",
            "|2015|        PHP|  147|\n",
            "|2015|     Python|  119|\n",
            "|2015|          R|   43|\n",
            "|2015|          C|   38|\n",
            "|2015|Objective-C|   30|\n",
            "|2015|       Ruby|   21|\n",
            "|2015|     MATLAB|   16|\n",
            "|2015|      Scala|   13|\n",
            "|2014| JavaScript|  235|\n",
            "|2014|       Java|  228|\n",
            "|2014|        PHP|  154|\n",
            "|2014|     Python|  103|\n",
            "|2014|          C|   52|\n",
            "|2014|Objective-C|   49|\n",
            "|2014|          R|   28|\n",
            "|2014|       Ruby|   20|\n",
            "|2014|     MATLAB|   16|\n",
            "|2014|       Bash|   13|\n",
            "|2013| JavaScript|  196|\n",
            "|2013|       Java|  191|\n",
            "|2013|        PHP|  173|\n",
            "|2013|     Python|   87|\n",
            "|2013|Objective-C|   40|\n",
            "|2013|          C|   36|\n",
            "|2013|       Ruby|   30|\n",
            "|2013|          R|   25|\n",
            "|2013|       Bash|   11|\n",
            "|2013|      Scala|   10|\n",
            "|2012|        PHP|  136|\n",
            "|2012| JavaScript|  129|\n",
            "|2012|       Java|  124|\n",
            "|2012|     Python|   65|\n",
            "|2012|Objective-C|   45|\n",
            "|2012|          C|   27|\n",
            "|2012|       Ruby|   25|\n",
            "|2012|          R|    9|\n",
            "|2012|       Bash|    9|\n",
            "|2012|     MATLAB|    6|\n",
            "|2011|        PHP|   97|\n",
            "|2011|       Java|   92|\n",
            "|2011| JavaScript|   82|\n",
            "|2011|     Python|   35|\n",
            "|2011|Objective-C|   33|\n",
            "|2011|          C|   24|\n",
            "|2011|       Ruby|   17|\n",
            "|2011|     Delphi|    8|\n",
            "|2011|       Perl|    8|\n",
            "|2011|       Bash|    7|\n",
            "|2010|       Java|   52|\n",
            "|2010| JavaScript|   44|\n",
            "|2010|        PHP|   42|\n",
            "|2010|     Python|   25|\n",
            "|2010|Objective-C|   23|\n",
            "|2010|          C|   20|\n",
            "|2010|       Ruby|   11|\n",
            "|2010|     Delphi|    7|\n",
            "|2010|          R|    3|\n",
            "|2010|AppleScript|    3|\n",
            "+----+-----------+-----+\n",
            "\n"
          ]
        }
      ],
      "source": [
        "result_df.show(100) # все топ-10 за 2010-2021 год"
      ]
    },
    {
      "cell_type": "markdown",
      "id": "0686c8e1",
      "metadata": {
        "id": "0686c8e1"
      },
      "source": [
        "# Задание 2. Получившийся отчёт сохранить в формате Apache Parquet."
      ]
    },
    {
      "cell_type": "code",
      "execution_count": 76,
      "id": "b3a214e9",
      "metadata": {
        "id": "b3a214e9"
      },
      "outputs": [],
      "source": [
        "os.chdir('/content/LR2')  # переходим в папку LR2"
      ]
    },
    {
      "cell_type": "code",
      "execution_count": 77,
      "id": "27490636",
      "metadata": {
        "id": "27490636"
      },
      "outputs": [],
      "source": [
        "result_df.write.mode(\"overwrite\").parquet(get_path_to_file(\"top_ten_languages.parquet\")) # сохраняем отчет"
      ]
    },
    {
      "cell_type": "markdown",
      "source": [
        "![image.png](data:image/png;base64,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)"
      ],
      "metadata": {
        "id": "s9DeRB7TzWCB"
      },
      "id": "s9DeRB7TzWCB"
    }
  ],
  "metadata": {
    "kernelspec": {
      "display_name": "Python 3 (ipykernel)",
      "language": "python",
      "name": "python3"
    },
    "language_info": {
      "codemirror_mode": {
        "name": "ipython",
        "version": 3
      },
      "file_extension": ".py",
      "mimetype": "text/x-python",
      "name": "python",
      "nbconvert_exporter": "python",
      "pygments_lexer": "ipython3",
      "version": "3.11.1"
    },
    "colab": {
      "provenance": []
    }
  },
  "nbformat": 4,
  "nbformat_minor": 5
}